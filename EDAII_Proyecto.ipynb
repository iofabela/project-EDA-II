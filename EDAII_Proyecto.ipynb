{
 "cells": [
  {
   "cell_type": "code",
   "execution_count": 7,
   "metadata": {
    "collapsed": false
   },
   "outputs": [
    {
     "name": "stdout",
     "output_type": "stream",
     "text": [
      "['allende', 'garibaldi/lagunilla', 'hidalgo', 'sanjuanletran']\n",
      "\n",
      "La busqueda de bellasartes da:  ['bellasartes', 'allende', 'garibaldi/lagunilla', 'hidalgo', 'sanjuanletran', 'zocalo', 'guerrero', 'lagunilla', 'juarez', 'revolucion', 'saltodelagua', 'pinosuarez', 'buenavista', 'tlatelolco', 'tepito', 'balderas', 'sancosme', 'doctores', 'isabellacatolica', 'merced', 'sanantonioabad', 'laraza', 'morelos', 'cuauhtemoc', 'ninosheroes', 'normal', 'obrera', 'candelaria', 'chabacano', 'autobusesdelnorte', 'misterios', 'potrero', 'canaldelnorte', 'sanlazaro', 'insurgentes', 'hospitalgeneral', 'colegiomilitar', 'frayservando', 'jamaica', 'laviga', 'lazarocardenas', 'viaducto', 'institutodelpetroleo', 'vallegomez', 'deportivo18demarzo', 'consulado', 'floresmagon', 'moctezuma', 'sevilla', 'centromedico', 'popotla', 'mixiuhca', 'santaanita', 'xola', 'lindavista', 'politecnico', 'vallejo', 'indiosverdes', 'lavilla-basilica', 'bondojito', 'eduardomolina', 'romerorubio', 'balbuena', 'chapultepec', 'chilpancingo', 'etiopia/plazadelatransparencia', 'cuitlahuac', 'velodromo', 'coyuya', 'villadecortes', 'norte45', 'martincarrera', 'talisman', 'aragon', 'oceania', 'boulevardptoaereo', 'juanacatlan', 'patriotismo', 'eugenia', 'tacuba', 'ciudaddeportiva', 'iztacalco', 'nativitas', 'ferreria', 'deportivooceania', 'terminalaerea', 'gomezfarias', 'tacubaya', 'divisiondelnorte', 'panteones', 'refineria', 'sanjoaquin', 'puebla', 'apatlaco', 'portales', 'azcapotzalco', 'bosquedearagon', 'hangares', 'zaragoza', 'constituyentes', 'observatorio', 'snpedrodelospinos', 'zapata', 'cuatrocaminos', 'camarones', 'polanco', 'pantitlan', 'aculco', 'ermita', 'tezozomoc', 'villadearagon', 'auditorio', 'snantonio', '20denoviembre', 'coyoacan', 'parquedelosvenados', 'aquilesserdan', 'agricolaoriental', 'escuadron201', 'ejecentral', 'generalanaya', 'mexicaltzingo', 'elrosario', 'nezahualcoyotl', 'mixcoac', 'insurgentessur', 'viveros/derechoshumanos', 'canaldesanjuan', 'atlalilco', 'tasquena', 'impulsora', 'barrancadelmuerto', 'miguelangeldequevedo', 'tepalcates', 'iztapalapa', 'puebloculhuacan', 'riodelosremedios', 'copilco', 'guelatao', 'cdelaestrella', 'esimeculhuacan', 'muzquiz', 'universidad', 'penonviejo', 'uami', 'tomatlan', 'ecatepec', 'acatitla', 'constde1917', 'calle11', 'olimpica', 'santamarta', 'perifericoote', 'plazaaragon', 'losreyes', 'tezonco', 'ciudadazteca', 'lapaz', 'olivos', 'nopalera', 'zapotitlan', 'tlaltenco', 'tlahuac']\n"
     ]
    }
   ],
   "source": [
    "Grafo=[['pantitlan','zaragoza'],['zaragoza','gomezfarias'],['gomezfarias','boulevardptoaereo'],\n",
    "       ['boulevardptoaereo','balbuena'],['balbuena','moctezuma'],['moctezuma','sanlazaro'],\n",
    "       ['sanlazaro','candelaria'],['candelaria','merced'],['merced','pinosuarez'],['pinosuarez','isabellacatolica'],\n",
    "       ['isabellacatolica','saltodelagua'],['saltodelagua','balderas'],['balderas','cuauhtemoc'],['cuauhtemoc','insurgentes'],\n",
    "       ['insurgentes','sevilla'],['sevilla','chapultepec'],['chapultepec','juanacatlan'],['juanacatlan','tacubaya'],\n",
    "       ['tacubaya','observatorio'],['cuatrocaminos','panteones'],['panteones','tacuba'],['tacuba','cuitlahuac'],\n",
    "       ['cuitlahuac','popotla'],['popotla','colegiomilitar'],['colegiomilitar','normal'],['normal','sancosme'],\n",
    "       ['sancosme','revolucion'],['revolucion','hidalgo'],['hidalgo','bellasartes'],['bellasartes','allende'],\n",
    "       ['allende','zocalo'],['zocalo','pinosuarez'],['pinosuarez','sanantonioabad'],['sanantonioabad','chabacano'],\n",
    "       ['chabacano','viaducto'],['viaducto','xola'],['xola','villadecortes'],['villadecortes','nativitas'],\n",
    "       ['nativitas','portales'],['portales','ermita'],['ermita','generalanaya'],['generalanaya','tasquena'],\n",
    "       ['indiosverdes','deportivo18demarzo'],['deportivo18demarzo','potrero'],['potrero','laraza'],['laraza','tlatelolco'],\n",
    "       ['tlatelolco','guerrero'],['guerrero','hidalgo'],['hidalgo','juarez'],['juarez','balderas'],['balderas','ninosheroes'],\n",
    "       ['ninosheroes','hospitalgeneral'],['hospitalgeneral','centromedico'],['centromedico','etiopia/plazadelatransparencia'],\n",
    "       ['etiopia/plazadelatransparencia','eugenia'],['eugenia','divisiondelnorte'],['divisiondelnorte','zapata'],\n",
    "       ['zapata','coyoacan'],['coyoacan','viveros/derechoshumanos'],['viveros/derechoshumanos','miguelangeldequevedo'],\n",
    "       ['miguelangeldequevedo','copilco'],['copilco','universidad'],['martincarrera','talisman'],['talisman','bondojito'],\n",
    "       ['bondojito','consulado'],['consulado','canaldelnorte'],['canaldelnorte','morelos'],['morelos','candelaria'],\n",
    "       ['candelaria','frayservando'],['frayservando','jamaica'],['jamaica','santaanita'],['pantitlan','hangares'],\n",
    "       ['hangares','terminalaerea'],['terminalaerea','oceania'],['oceania','aragon'],['aragon','eduardomolina'],\n",
    "       ['eduardomolina','consulado'],['consulado','vallegomez'],['vallegomez','misterios'],['misterios','laraza'],\n",
    "       ['laraza','autobusesdelnorte'],['autobusesdelnorte','institutodelpetroleo'],['institutodelpetroleo','politecnico'],\n",
    "       ['elrosario','tezozomoc'],['tezozomoc','azcapotzalco'],['azcapotzalco','ferreria'],['ferreria','norte45'],\n",
    "       ['norte45','vallejo'],['vallejo','institutodelpetroleo'],['institutodelpetroleo','lindavista'],\n",
    "       ['lindavista','deportivo18demarzo'],['deportivo18demarzo','lavilla-basilica'],['lavilla-basilica','martincarrera'],\n",
    "       ['elrosario','aquilesserdan'],['aquilesserdan','camarones'],['camarones','refineria'],['refineria','tacuba'],\n",
    "       ['tacuba','sanjoaquin'],['sanjoaquin','polanco'],['polanco','auditorio'],['auditorio','constituyentes'],\n",
    "       ['constituyentes','tacubaya'],['tacubaya','snpedrodelospinos'],['snpedrodelospinos','snantonio'],\n",
    "       ['snantonio','mixcoac'],['mixcoac','barrancadelmuerto'],['garibaldi/lagunilla','bellasartes'],\n",
    "       ['bellasartes','sanjuanletran'],['sanjuanletran','saltodelagua'],['saltodelagua','doctores'],\n",
    "       ['doctores','obrera'],['obrera','chabacano'],['chabacano','laviga'],['laviga','santaanita'],['santaanita','coyuya'],\n",
    "       ['coyuya','iztacalco'],['iztacalco','apatlaco'],['apatlaco','aculco'],['aculco','escuadron201'],\n",
    "       ['escuadron201','atlalilco'],['atlalilco','iztapalapa'],['iztapalapa','cdelaestrella'],\n",
    "       ['cdelaestrella','uami'],['uami','constde1917'],['pantitlan','puebla'],['puebla','ciudaddeportiva'],\n",
    "       ['ciudaddeportiva','velodromo'],['velodromo','mixiuhca'],['mixiuhca','jamaica'],['jamaica','chabacano'],\n",
    "       ['chabacano','lazarocardenas'],['lazarocardenas','centromedico'],['centromedico','chilpancingo'],\n",
    "       ['chilpancingo','patriotismo'],['patriotismo','tacubaya'],['pantitlan','agricolaoriental'],\n",
    "       ['agricolaoriental','canaldesanjuan'],['canaldesanjuan','tepalcates'],['tepalcates','guelatao'],\n",
    "       ['guelatao','penonviejo'],['penonviejo','acatitla'],['acatitla','santamarta'],['santamarta','losreyes'],\n",
    "       ['losreyes','lapaz'],['ciudadazteca','plazaaragon'],['plazaaragon','olimpica'],['olimpica','ecatepec'],\n",
    "       ['ecatepec','muzquiz'],['muzquiz','riodelosremedios'],['riodelosremedios','impulsora'],['impulsora','nezahualcoyotl'],\n",
    "       ['nezahualcoyotl','villadearagon'],['villadearagon','bosquedearagon'],['bosquedearagon','deportivooceania'],\n",
    "       ['deportivooceania','oceania'],['oceania','romerorubio'],['romerorubio','floresmagon'],['floresmagon','sanlazaro'],\n",
    "       ['sanlazaro','morelos'],['morelos','tepito'],['tepito','lagunilla'],['lagunilla','garibaldi/lagunilla'],\n",
    "       ['garibaldi/lagunilla','guerrero'],['guerrero','buenavista'],['tlahuac','tlaltenco'],['tlaltenco','zapotitlan'],\n",
    "       ['zapotitlan','nopalera'],['nopalera','olivos'],['olivos','tezonco'],['tezonco','perifericoote'],\n",
    "       ['perifericoote','calle11'],['calle11','tomatlan'],['tomatlan','esimeculhuacan'],['esimeculhuacan','puebloculhuacan'],\n",
    "       ['puebloculhuacan','atlalilco'],['atlalilco','mexicaltzingo'],['mexicaltzingo','ermita'],['ermita','ejecentral'],\n",
    "       ['ejecentral','parquedelosvenados'],['parquedelosvenados','zapata'],['zapata','20denoviembre'],\n",
    "       ['20denoviembre','insurgentessur'],['insurgentessur','mixcoac']] \n",
    "\n",
    "\n",
    "def Vecino (lista,x):\n",
    "    sublista=[]    \n",
    "    for i in range (len(lista)):\n",
    "        if x==lista[i][0]:\n",
    "            sublista.append(lista[i][1])\n",
    "        if x==lista[i][1]:\n",
    "            sublista.append(lista[i][0])\n",
    "        sublista.sort()\n",
    "    return sublista        \n",
    "\n",
    "\n",
    "print(Vecino(Grafo,'bellasartes'))\n",
    "\n",
    "\n",
    "def BPA(G,s):\n",
    "    subG=[]\n",
    "    subG.append(s)\n",
    "    elemento=subG[0]\n",
    "    G1=Vecino(G,elemento)\n",
    "    while(G1!=[]):\n",
    "        G3=[]\n",
    "        elemento1=G1[0]\n",
    "        G3=Vecino(G,elemento1)\n",
    "        tmp=Vecino(G,elemento1)\n",
    "        \n",
    "        for i in range(len(G1)):\n",
    "            for j in range(len(G3)):\n",
    "                if(G1[i]==G3[j]):\n",
    "                    elemento2=G1[i]\n",
    "                    tmp.remove(elemento2)\n",
    "        for i in range(len(subG)):\n",
    "            for j in range(len(G3)):\n",
    "                if(subG[i]==G3[j]):\n",
    "                    elemento2=subG[i]\n",
    "                    tmp.remove(elemento2)\n",
    "        if(tmp!=[]):\n",
    "            for i in range(len(tmp)):\n",
    "                G1.append(tmp[i])\n",
    "        elemento2=G1[0]\n",
    "        subG.append(elemento2)\n",
    "        #print(\"->G1: \",G1)\n",
    "        G1.pop(0)\n",
    "        \n",
    "    return subG\n",
    "\n",
    "\n",
    "\n",
    "\n",
    "s='bellasartes'\n",
    "print(\"\\nLa busqueda de\", s,\"da: \", BPA(Grafo,s))\n",
    "#x='jamaica'\n",
    "#print(\"\\nLa busqueda de balderas da: \", BPA(Grafo,x))\n"
   ]
  },
  {
   "cell_type": "code",
   "execution_count": 65,
   "metadata": {
    "collapsed": false
   },
   "outputs": [
    {
     "name": "stdout",
     "output_type": "stream",
     "text": [
      "No. de pasada:  147  & Numero de comparaciones: 13083\n"
     ]
    }
   ],
   "source": [
    "#Ejercicio 2 del proyecto\n",
    "\n",
    "\n",
    "def bubbleSort(A):\n",
    "    bandera=True\n",
    "    pasada=0\n",
    "    comp=0\n",
    "    while pasada < len(A)-1 and bandera:\n",
    "        bandera=False\n",
    "        for j in range ((len(A)-pasada)-1):\n",
    "            if(A[j]>A[j+1]):\n",
    "                bandera=True\n",
    "                temp=A[j]\n",
    "                A[j]=A[j+1]\n",
    "                A[j+1]=temp\n",
    "            comp=comp+1\n",
    "        pasada=pasada+1\n",
    "        #print(\"Pasada\",pasada)\n",
    "    print(\"No. de pasada: \",pasada,\" & Numero de comparaciones:\",comp) \n",
    "\n",
    "list=BPA(Grafo,s)\n",
    "bubbleSort(list)\n",
    "#print(\"\\nForma ordenada: \",list)\n",
    "\n",
    "\n",
    "str='\\n'.join(list)\n",
    "\n",
    "\n",
    "#Guarda la busqueda en el archivo\n",
    "def crearArchivo():\n",
    "    archivo=open('lista.txt','w')\n",
    "    archivo.close()\n",
    "\n",
    "\n",
    "\n",
    "\n",
    "def grabarArchivo():\n",
    "    archivo=open('lista.txt','a')\n",
    "    archivo.write(str)\n",
    "    archivo.close()\n",
    "def leerArchivo():\n",
    "    archivo=open('lista.txt','r')\n",
    "    linea=archivo.readline()\n",
    "    while linea!=\"\":\n",
    "        #print (linea)\n",
    "        linea=archivo.readline()\n",
    "    archivo.close()\n",
    "\n",
    "\n",
    "\n",
    "\n",
    "crearArchivo()\n",
    "grabarArchivo()\n",
    "leerArchivo()\n",
    "\n"
   ]
  },
  {
   "cell_type": "code",
   "execution_count": 29,
   "metadata": {
    "collapsed": false
   },
   "outputs": [
    {
     "name": "stdout",
     "output_type": "stream",
     "text": [
      "Las cuentas son:  14\n",
      "Posicion:  145\n"
     ]
    }
   ],
   "source": [
    "import math\n",
    "def BusquedaBinaria(A,x,izq,der):\n",
    "    while izq<=der:\n",
    "        medio=math.floor((izq+der)/2)\n",
    "        cont=cont+1\n",
    "        if A[medio]==x:\n",
    "            return medio\n",
    "        elif A[medio]<x:\n",
    "            izq=medio+1\n",
    "        else:\n",
    "            der=medio-1\n",
    "    print(\"Las cuentas son: \",cont)\n",
    "    return print('No esta en la lista')\n",
    "\n",
    "\n",
    "print(\"Posicion: \", BusquedaBinaria(list,'tlahuac',0,len(list)-1))"
   ]
  },
  {
   "cell_type": "code",
   "execution_count": null,
   "metadata": {
    "collapsed": true
   },
   "outputs": [],
   "source": []
  }
 ],
 "metadata": {
  "anaconda-cloud": {},
  "kernelspec": {
   "display_name": "Python [Root]",
   "language": "python",
   "name": "Python [Root]"
  },
  "language_info": {
   "codemirror_mode": {
    "name": "ipython",
    "version": 3
   },
   "file_extension": ".py",
   "mimetype": "text/x-python",
   "name": "python",
   "nbconvert_exporter": "python",
   "pygments_lexer": "ipython3",
   "version": "3.5.2"
  }
 },
 "nbformat": 4,
 "nbformat_minor": 0
}
